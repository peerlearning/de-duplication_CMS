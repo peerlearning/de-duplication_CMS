{
 "cells": [
  {
   "cell_type": "markdown",
   "metadata": {},
   "source": [
    "We have explored other similarity metrics in the notebook base_similarity_models.ipynb\n",
    "Cosine similarity was the most relevant metric found.\n",
    "Here we will use sklearn instead of gensim and add tf-idf and n-grams to the model which should improve text match"
   ]
  },
  {
   "cell_type": "code",
   "execution_count": 1,
   "metadata": {},
   "outputs": [],
   "source": [
    "from sklearn import model_selection, preprocessing, linear_model, naive_bayes, metrics, svm\n",
    "from sklearn.feature_extraction.text import TfidfVectorizer, CountVectorizer\n",
    "from sklearn.metrics.pairwise import cosine_similarity\n",
    "\n",
    "from nltk.corpus import stopwords \n",
    "from bs4 import BeautifulSoup, Tag    ## Cleaning HTML tags from text\n",
    "\n",
    "\n",
    "import pandas as pd\n",
    "import numpy as np\n",
    "import json     ## To covnert json raw data to df\n",
    "\n",
    "import pickle   ## saving the model to disk\n",
    "pd.set_option('display.max_colwidth', -1)    ## Problem texts can be long and may not load on Jupyter"
   ]
  },
  {
   "cell_type": "markdown",
   "metadata": {},
   "source": [
    "#### Reading problems repo"
   ]
  },
  {
   "cell_type": "code",
   "execution_count": 2,
   "metadata": {},
   "outputs": [
    {
     "data": {
      "text/plain": [
       "{'subject': 'MTH',\n",
       " 'grade': '12',\n",
       " 'curriculum': 'JEE',\n",
       " 'chapter': 'Inverse Trigonometry ',\n",
       " 'chapter_no': '18',\n",
       " 'topic': 'Introduction to Inverse Trigonometry',\n",
       " 'topic_no': '01',\n",
       " 'difficulty': '1',\n",
       " 'problem_code': 'P005928',\n",
       " 'problem_status': 'final',\n",
       " 'problem_mongo_id': '56f2348c3562d9749900083a',\n",
       " 'problem_type': 'Spot Test',\n",
       " 'options': ' \\\\(\\\\frac{\\\\pi}2\\\\) \\\\(\\\\frac{\\\\pi}4\\\\) \\\\(\\\\frac{\\\\pi}3\\\\) \\\\(\\\\frac{\\\\pi}6\\\\)',\n",
       " 'solution': '',\n",
       " 'question_text': '\\\\(\\\\sin^{−1}\\\\left(\\u2061\\\\frac{1}{√2}\\\\right)=\\\\)________'}"
      ]
     },
     "execution_count": 2,
     "metadata": {},
     "output_type": "execute_result"
    }
   ],
   "source": [
    "with open('data/qs_topicwise.json') as json_data:\n",
    "    Qs = json.load(json_data)\n",
    "\n",
    "Qs[1]"
   ]
  },
  {
   "cell_type": "markdown",
   "metadata": {},
   "source": [
    "#### Converting to tabular & filtering irrelevant questions"
   ]
  },
  {
   "cell_type": "code",
   "execution_count": 3,
   "metadata": {},
   "outputs": [
    {
     "data": {
      "text/html": [
       "<div>\n",
       "<style scoped>\n",
       "    .dataframe tbody tr th:only-of-type {\n",
       "        vertical-align: middle;\n",
       "    }\n",
       "\n",
       "    .dataframe tbody tr th {\n",
       "        vertical-align: top;\n",
       "    }\n",
       "\n",
       "    .dataframe thead th {\n",
       "        text-align: right;\n",
       "    }\n",
       "</style>\n",
       "<table border=\"1\" class=\"dataframe\">\n",
       "  <thead>\n",
       "    <tr style=\"text-align: right;\">\n",
       "      <th></th>\n",
       "      <th>curriculum</th>\n",
       "      <th>subject</th>\n",
       "      <th>grade</th>\n",
       "      <th>chapter</th>\n",
       "      <th>problem_code</th>\n",
       "      <th>problem_type</th>\n",
       "      <th>question_text</th>\n",
       "    </tr>\n",
       "  </thead>\n",
       "  <tbody>\n",
       "  </tbody>\n",
       "</table>\n",
       "</div>"
      ],
      "text/plain": [
       "Empty DataFrame\n",
       "Columns: [curriculum, subject, grade, chapter, problem_code, problem_type, question_text]\n",
       "Index: []"
      ]
     },
     "execution_count": 3,
     "metadata": {},
     "output_type": "execute_result"
    }
   ],
   "source": [
    "repo_df = pd.DataFrame(columns=['curriculum', 'subject', 'grade', 'chapter', 'problem_code',\n",
    "                                'problem_type','question_text'])\n",
    "repo_df.head()"
   ]
  },
  {
   "cell_type": "code",
   "execution_count": 4,
   "metadata": {},
   "outputs": [
    {
     "data": {
      "text/html": [
       "<div>\n",
       "<style scoped>\n",
       "    .dataframe tbody tr th:only-of-type {\n",
       "        vertical-align: middle;\n",
       "    }\n",
       "\n",
       "    .dataframe tbody tr th {\n",
       "        vertical-align: top;\n",
       "    }\n",
       "\n",
       "    .dataframe thead th {\n",
       "        text-align: right;\n",
       "    }\n",
       "</style>\n",
       "<table border=\"1\" class=\"dataframe\">\n",
       "  <thead>\n",
       "    <tr style=\"text-align: right;\">\n",
       "      <th></th>\n",
       "      <th>curriculum</th>\n",
       "      <th>subject</th>\n",
       "      <th>grade</th>\n",
       "      <th>chapter</th>\n",
       "      <th>problem_code</th>\n",
       "      <th>problem_type</th>\n",
       "      <th>question_text</th>\n",
       "    </tr>\n",
       "  </thead>\n",
       "  <tbody>\n",
       "    <tr>\n",
       "      <th>0</th>\n",
       "      <td>JEE</td>\n",
       "      <td>MTH</td>\n",
       "      <td>12</td>\n",
       "      <td>Inverse Trigonometry</td>\n",
       "      <td>P000321</td>\n",
       "      <td>ConcepTest</td>\n",
       "      <td>among the statements given below, which one is correct?</td>\n",
       "    </tr>\n",
       "    <tr>\n",
       "      <th>1</th>\n",
       "      <td>JEE</td>\n",
       "      <td>MTH</td>\n",
       "      <td>12</td>\n",
       "      <td>Inverse Trigonometry</td>\n",
       "      <td>P005928</td>\n",
       "      <td>Spot Test</td>\n",
       "      <td>\\(\\sin^{−1}\\left(⁡\\frac{1}{√2}\\right)=\\)________</td>\n",
       "    </tr>\n",
       "    <tr>\n",
       "      <th>2</th>\n",
       "      <td>JEE</td>\n",
       "      <td>MTH</td>\n",
       "      <td>12</td>\n",
       "      <td>Inverse Trigonometry</td>\n",
       "      <td>P005929</td>\n",
       "      <td>Spot Test</td>\n",
       "      <td>the principal domain of \\(\\cos⁡𝑥\\) is ___________</td>\n",
       "    </tr>\n",
       "  </tbody>\n",
       "</table>\n",
       "</div>"
      ],
      "text/plain": [
       "  curriculum subject grade                chapter problem_code problem_type  \\\n",
       "0  JEE        MTH     12    Inverse Trigonometry   P000321      ConcepTest    \n",
       "1  JEE        MTH     12    Inverse Trigonometry   P005928      Spot Test     \n",
       "2  JEE        MTH     12    Inverse Trigonometry   P005929      Spot Test     \n",
       "\n",
       "                                             question_text  \n",
       "0  among the statements given below, which one is correct?  \n",
       "1  \\(\\sin^{−1}\\left(⁡\\frac{1}{√2}\\right)=\\)________         \n",
       "2  the principal domain of \\(\\cos⁡𝑥\\) is ___________        "
      ]
     },
     "execution_count": 4,
     "metadata": {},
     "output_type": "execute_result"
    }
   ],
   "source": [
    "questions = []\n",
    "i = 0\n",
    "for question in Qs:\n",
    "    #topic_code = question['topic_code']  ## Not in dataset anymore, already split\n",
    "    try: \n",
    "        question_text = question['question_text'].lower()\n",
    "        question_text = BeautifulSoup(question_text, \"html.parser\").get_text()   ## Clean HTMl tags\n",
    "        question_text = \" \".join(question_text.split())\n",
    "        subject = question['subject']\n",
    "        curriculum = question['curriculum']\n",
    "        grade = question['grade']\n",
    "        curr_question = {}\n",
    "        if(curriculum in [\"CBSE\", \"JEE\"] and grade in [\"9\", \"10\", \"11\", \"12\"] and \"dummy\" not in question_text):\n",
    "            repo_df.loc[i] = [curriculum, subject, grade, question['chapter'], question['problem_code'],\n",
    "                              question['problem_type'], question_text]\n",
    "            i += 1\n",
    "    except:\n",
    "            pass\n",
    "\n",
    "repo_df.head(3)"
   ]
  },
  {
   "cell_type": "code",
   "execution_count": 5,
   "metadata": {},
   "outputs": [
    {
     "data": {
      "text/plain": [
       "(21067, 7)"
      ]
     },
     "execution_count": 5,
     "metadata": {},
     "output_type": "execute_result"
    }
   ],
   "source": [
    "repo_df.shape"
   ]
  },
  {
   "cell_type": "markdown",
   "metadata": {},
   "source": [
    "### Converting sentences to vectors"
   ]
  },
  {
   "cell_type": "markdown",
   "metadata": {},
   "source": [
    "Limiting dictionary to 1 subject"
   ]
  },
  {
   "cell_type": "code",
   "execution_count": 6,
   "metadata": {},
   "outputs": [
    {
     "data": {
      "text/plain": [
       "(7208, 7)"
      ]
     },
     "execution_count": 6,
     "metadata": {},
     "output_type": "execute_result"
    }
   ],
   "source": [
    "repo_df = repo_df[repo_df['subject'] == \"PHY\"]\n",
    "repo_df.shape"
   ]
  },
  {
   "cell_type": "markdown",
   "metadata": {},
   "source": [
    "#### Custom tokenizer (optional) for stemming, tokenizing & punctuation removal\n",
    "If we add this tokenizer, we need to save it as another pickled model"
   ]
  },
  {
   "cell_type": "code",
   "execution_count": 7,
   "metadata": {},
   "outputs": [],
   "source": [
    "import nltk, string\n",
    "#words_to_remove = [\"rightarrow\", \"hence\", \"frac\", \"text\", \"sqrt\", \"times\", \"value\", \"amp\", \"equal\", \"left\", \"right\"]\n",
    "\n",
    "stemmer = nltk.stem.porter.PorterStemmer()    ## May need to download this with \"nltk.download('punkt')\"\n",
    "remove_punctuation_map = dict((ord(char), None) for char in string.punctuation)\n",
    "\n",
    "def stem_tokens(tokens):\n",
    "    return [stemmer.stem(item) for item in tokens]\n",
    "\n",
    "def normalize(text):\n",
    "    return stem_tokens(nltk.word_tokenize(text.translate(remove_punctuation_map)))"
   ]
  },
  {
   "cell_type": "code",
   "execution_count": 8,
   "metadata": {},
   "outputs": [
    {
     "data": {
      "text/plain": [
       "TfidfVectorizer(analyzer='word', binary=False, decode_error='strict',\n",
       "        dtype=<class 'numpy.float64'>, encoding='utf-8', input='content',\n",
       "        lowercase=True, max_df=0.8, max_features=10000, min_df=5,\n",
       "        ngram_range=(2, 3), norm='l2', preprocessor=None, smooth_idf=True,\n",
       "        stop_words=None, strip_accents=None, sublinear_tf=False,\n",
       "        token_pattern='\\\\w{1,}', tokenizer=None, use_idf=True,\n",
       "        vocabulary=None)"
      ]
     },
     "execution_count": 8,
     "metadata": {},
     "output_type": "execute_result"
    }
   ],
   "source": [
    "tfidf_vect_ngram = TfidfVectorizer(analyzer='word', token_pattern=r'\\w{1,}', ngram_range=(2,3),\n",
    "                                   lowercase=True, tokenizer=None, max_features=10000, \n",
    "                                   use_idf = True, min_df = 5, max_df = 0.8)\n",
    "## Min 5 occurences, max 80% tf in docs\n",
    "tfidf_vect_ngram.fit(repo_df['question_text'])"
   ]
  },
  {
   "cell_type": "markdown",
   "metadata": {},
   "source": [
    "## Serializing the model to disk"
   ]
  },
  {
   "cell_type": "code",
   "execution_count": 9,
   "metadata": {},
   "outputs": [],
   "source": [
    "with open('sim_vectorizer.pkl', 'wb') as f:\n",
    "    pickle.dump(tfidf_vect_ngram, f, pickle.HIGHEST_PROTOCOL)\n",
    "with open('sim_question_repo.pkl', 'wb') as f:\n",
    "    pickle.dump(repo_df, f, pickle.HIGHEST_PROTOCOL)"
   ]
  },
  {
   "cell_type": "markdown",
   "metadata": {},
   "source": [
    "## Testing with a pickled model"
   ]
  },
  {
   "cell_type": "code",
   "execution_count": 10,
   "metadata": {},
   "outputs": [],
   "source": [
    "with open('sim_vectorizer.pkl', 'rb') as f:\n",
    "    tfidf_vect_ngram = pickle.load(f)\n",
    "with open('sim_question_repo.pkl', 'rb') as f:\n",
    "    repo_df = pickle.load(f)"
   ]
  },
  {
   "cell_type": "code",
   "execution_count": 11,
   "metadata": {},
   "outputs": [
    {
     "data": {
      "text/plain": [
       "<7208x10000 sparse matrix of type '<class 'numpy.float64'>'\n",
       "\twith 227061 stored elements in Compressed Sparse Row format>"
      ]
     },
     "execution_count": 11,
     "metadata": {},
     "output_type": "execute_result"
    }
   ],
   "source": [
    "repo_tfidf_ngram = tfidf_vect_ngram.transform(repo_df['question_text'])\n",
    "repo_tfidf_ngram"
   ]
  },
  {
   "cell_type": "markdown",
   "metadata": {},
   "source": [
    "### Calculating similarity with a given text input"
   ]
  },
  {
   "cell_type": "code",
   "execution_count": 12,
   "metadata": {},
   "outputs": [
    {
     "data": {
      "text/plain": [
       "<1x10000 sparse matrix of type '<class 'numpy.float64'>'\n",
       "\twith 24 stored elements in Compressed Sparse Row format>"
      ]
     },
     "execution_count": 12,
     "metadata": {},
     "output_type": "execute_result"
    }
   ],
   "source": [
    "test_q = 'Calculate the time of flight of a ball launched with a velocty of 5 m / s at an angle of 30 degrees'\n",
    "test_matrix = tfidf_vect_ngram.transform([test_q])\n",
    "test_matrix"
   ]
  },
  {
   "cell_type": "code",
   "execution_count": 13,
   "metadata": {},
   "outputs": [
    {
     "data": {
      "text/plain": [
       "array([0.        , 0.01285961, 0.        , 0.        , 0.        ,\n",
       "       0.00702585])"
      ]
     },
     "execution_count": 13,
     "metadata": {},
     "output_type": "execute_result"
    }
   ],
   "source": [
    "cos_sm = cosine_similarity(test_matrix, repo_tfidf_ngram).flatten()\n",
    "## Source : https://intellipaat.com/community/1103/python-tf-idf-cosine-to-find-document-similarity\n",
    "cos_sm[0:6]"
   ]
  },
  {
   "cell_type": "markdown",
   "metadata": {},
   "source": [
    "### Finding top 5 closest matches"
   ]
  },
  {
   "cell_type": "code",
   "execution_count": 14,
   "metadata": {},
   "outputs": [
    {
     "name": "stdout",
     "output_type": "stream",
     "text": [
      "[4584 2850 4602 2638 4593]\n",
      "[0.35621971 0.33996381 0.30860128 0.27278144 0.27192084]\n"
     ]
    }
   ],
   "source": [
    "top5 = cos_sm.argsort()[:-6:-1]\n",
    "print(top5)             ## Row indices\n",
    "print(cos_sm[top5])     ## Actual cosine similarities"
   ]
  },
  {
   "cell_type": "code",
   "execution_count": 15,
   "metadata": {},
   "outputs": [
    {
     "name": "stderr",
     "output_type": "stream",
     "text": [
      "/anaconda3/lib/python3.6/site-packages/ipykernel_launcher.py:1: UserWarning: Boolean Series key will be reindexed to match DataFrame index.\n",
      "  \"\"\"Entry point for launching an IPython kernel.\n"
     ]
    },
    {
     "data": {
      "text/html": [
       "<div>\n",
       "<style scoped>\n",
       "    .dataframe tbody tr th:only-of-type {\n",
       "        vertical-align: middle;\n",
       "    }\n",
       "\n",
       "    .dataframe tbody tr th {\n",
       "        vertical-align: top;\n",
       "    }\n",
       "\n",
       "    .dataframe thead th {\n",
       "        text-align: right;\n",
       "    }\n",
       "</style>\n",
       "<table border=\"1\" class=\"dataframe\">\n",
       "  <thead>\n",
       "    <tr style=\"text-align: right;\">\n",
       "      <th></th>\n",
       "      <th>curriculum</th>\n",
       "      <th>subject</th>\n",
       "      <th>grade</th>\n",
       "      <th>chapter</th>\n",
       "      <th>problem_code</th>\n",
       "      <th>problem_type</th>\n",
       "      <th>question_text</th>\n",
       "    </tr>\n",
       "  </thead>\n",
       "  <tbody>\n",
       "    <tr>\n",
       "      <th>13991</th>\n",
       "      <td>JEE</td>\n",
       "      <td>PHY</td>\n",
       "      <td>11</td>\n",
       "      <td>Motion in Two Dimensions</td>\n",
       "      <td>P030411</td>\n",
       "      <td>In Class Test</td>\n",
       "      <td>a ball is projected from a top of a building of height \\(20 m\\) with velocity \\(20 m/s\\) at an angle of \\(-30^0\\) with the horizontal. what is the range of a ball\\(?\\)</td>\n",
       "    </tr>\n",
       "    <tr>\n",
       "      <th>14009</th>\n",
       "      <td>JEE</td>\n",
       "      <td>PHY</td>\n",
       "      <td>11</td>\n",
       "      <td>Motion in Two Dimensions</td>\n",
       "      <td>P030487</td>\n",
       "      <td>In Class Test</td>\n",
       "      <td>a ball is moving with velocity \\(5 m/s\\) in horizontal direction. and another ball is approaching towards ball with velocity \\(5 m/s\\) at an angle \\(45^0\\). then what is the net velocity of approach between two balls?</td>\n",
       "    </tr>\n",
       "    <tr>\n",
       "      <th>14000</th>\n",
       "      <td>JEE</td>\n",
       "      <td>PHY</td>\n",
       "      <td>11</td>\n",
       "      <td>Motion in Two Dimensions</td>\n",
       "      <td>P000892</td>\n",
       "      <td>Recall Test</td>\n",
       "      <td>for a ground to ground projectile motion, the expression for the time of flight is given by</td>\n",
       "    </tr>\n",
       "  </tbody>\n",
       "</table>\n",
       "</div>"
      ],
      "text/plain": [
       "      curriculum subject grade                   chapter problem_code  \\\n",
       "13991  JEE        PHY     11    Motion in Two Dimensions  P030411       \n",
       "14009  JEE        PHY     11    Motion in Two Dimensions  P030487       \n",
       "14000  JEE        PHY     11    Motion in Two Dimensions  P000892       \n",
       "\n",
       "        problem_type  \\\n",
       "13991  In Class Test   \n",
       "14009  In Class Test   \n",
       "14000  Recall Test     \n",
       "\n",
       "                                                                                                                                                                                                                   question_text  \n",
       "13991  a ball is projected from a top of a building of height \\(20 m\\) with velocity \\(20 m/s\\) at an angle of \\(-30^0\\) with the horizontal. what is the range of a ball\\(?\\)                                                    \n",
       "14009  a ball is moving with velocity \\(5 m/s\\) in horizontal direction. and another ball is approaching towards ball with velocity \\(5 m/s\\) at an angle \\(45^0\\). then what is the net velocity of approach between two balls?  \n",
       "14000  for a ground to ground projectile motion, the expression for the time of flight is given by                                                                                                                                "
      ]
     },
     "execution_count": 15,
     "metadata": {},
     "output_type": "execute_result"
    }
   ],
   "source": [
    "repo_df.iloc[top5][repo_df['chapter'] == 'Motion in Two Dimensions']"
   ]
  },
  {
   "cell_type": "code",
   "execution_count": null,
   "metadata": {},
   "outputs": [],
   "source": []
  }
 ],
 "metadata": {
  "kernelspec": {
   "display_name": "Python 3",
   "language": "python",
   "name": "python3"
  },
  "language_info": {
   "codemirror_mode": {
    "name": "ipython",
    "version": 3
   },
   "file_extension": ".py",
   "mimetype": "text/x-python",
   "name": "python",
   "nbconvert_exporter": "python",
   "pygments_lexer": "ipython3",
   "version": "3.6.7"
  }
 },
 "nbformat": 4,
 "nbformat_minor": 2
}
